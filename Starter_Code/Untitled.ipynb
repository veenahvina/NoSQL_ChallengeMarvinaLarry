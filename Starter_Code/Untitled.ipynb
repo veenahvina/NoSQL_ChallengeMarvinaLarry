{
 "cells": [
  {
   "cell_type": "markdown",
   "id": "15b06438",
   "metadata": {},
   "source": [
    "# Eat Safe, Love"
   ]
  },
  {
   "cell_type": "markdown",
   "id": "c1d022dd",
   "metadata": {},
   "source": [
    "# Database Setup"
   ]
  },
  {
   "cell_type": "code",
   "execution_count": null,
   "id": "88cc61cb",
   "metadata": {},
   "outputs": [],
   "source": [
    "# Open Terminal and navigate to the Resources folder where establishments.json is stored."
   ]
  },
  {
   "cell_type": "code",
   "execution_count": null,
   "id": "351123c9",
   "metadata": {},
   "outputs": [],
   "source": [
    "# Import the `establishments.json` file with the following line in Terminal:\n",
    "\n",
    "    ```shell\n",
    "    mongoimport --type json -d uk_food -c establishments --jsonArray establishments.json\n",
    "    ```"
   ]
  }
 ],
 "metadata": {
  "kernelspec": {
   "display_name": "Python 3 (ipykernel)",
   "language": "python",
   "name": "python3"
  },
  "language_info": {
   "codemirror_mode": {
    "name": "ipython",
    "version": 3
   },
   "file_extension": ".py",
   "mimetype": "text/x-python",
   "name": "python",
   "nbconvert_exporter": "python",
   "pygments_lexer": "ipython3",
   "version": "3.10.11"
  }
 },
 "nbformat": 4,
 "nbformat_minor": 5
}
